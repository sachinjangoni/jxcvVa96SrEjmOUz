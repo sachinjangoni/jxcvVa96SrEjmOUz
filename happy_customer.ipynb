{
  "nbformat": 4,
  "nbformat_minor": 0,
  "metadata": {
    "colab": {
      "name": "happy customer.ipynb",
      "provenance": [],
      "toc_visible": true
    },
    "kernelspec": {
      "name": "python3",
      "display_name": "Python 3"
    }
  },
  "cells": [
    {
      "cell_type": "markdown",
      "metadata": {
        "id": "88CxxWGD0gPc"
      },
      "source": [
        "## **Importing the libraries**"
      ]
    },
    {
      "cell_type": "code",
      "metadata": {
        "id": "HKSEYTgX0c9D"
      },
      "source": [
        "import numpy as np\n",
        "import matplotlib.pyplot as plt\n",
        "import pandas as pd"
      ],
      "execution_count": 1,
      "outputs": []
    },
    {
      "cell_type": "markdown",
      "metadata": {
        "id": "mbFu5a-90gM1"
      },
      "source": [
        "# **Importing the dataset**"
      ]
    },
    {
      "cell_type": "code",
      "metadata": {
        "id": "ySTKnMqz1Irv"
      },
      "source": [
        "dataset = pd.read_csv('ACME-Happiness1Survey2020.csv')\n",
        "X = dataset.iloc[:, :-1].values\n",
        "y = dataset.iloc[:, -1].values"
      ],
      "execution_count": 2,
      "outputs": []
    },
    {
      "cell_type": "code",
      "metadata": {
        "colab": {
          "base_uri": "https://localhost:8080/"
        },
        "id": "AJMHwCGu1gau",
        "outputId": "8ae696b1-4fce-445f-88f2-cd619efaba0f"
      },
      "source": [
        "print(X)"
      ],
      "execution_count": 3,
      "outputs": [
        {
          "output_type": "stream",
          "text": [
            "[[3 3 3 4 2 4]\n",
            " [3 2 3 5 4 3]\n",
            " [5 3 3 3 3 5]\n",
            " [5 4 3 3 3 5]\n",
            " [5 4 3 3 3 5]\n",
            " [5 5 3 5 5 5]\n",
            " [3 1 2 2 1 3]\n",
            " [5 4 4 4 4 5]\n",
            " [4 1 4 4 4 4]\n",
            " [4 4 4 2 5 5]\n",
            " [3 2 3 3 2 3]\n",
            " [4 4 3 4 4 4]\n",
            " [5 2 4 5 5 5]\n",
            " [4 2 4 5 4 3]\n",
            " [4 1 3 3 4 3]\n",
            " [3 2 4 3 4 4]\n",
            " [5 3 4 5 4 5]\n",
            " [5 1 4 3 4 5]\n",
            " [5 1 2 4 4 5]\n",
            " [4 2 4 4 4 4]\n",
            " [4 2 3 3 4 4]\n",
            " [4 3 5 5 5 4]\n",
            " [4 3 5 5 5 4]\n",
            " [5 1 2 5 2 4]\n",
            " [4 3 3 3 3 4]\n",
            " [3 4 3 3 2 3]\n",
            " [3 3 3 5 5 5]\n",
            " [3 3 1 3 3 4]\n",
            " [3 3 1 3 3 4]\n",
            " [5 3 3 3 5 3]\n",
            " [5 3 3 3 5 3]\n",
            " [4 1 3 4 4 5]\n",
            " [3 2 4 4 4 5]\n",
            " [3 2 4 4 4 5]\n",
            " [4 1 3 1 1 4]\n",
            " [4 2 3 3 4 4]\n",
            " [5 3 4 3 4 5]\n",
            " [5 3 4 3 4 5]\n",
            " [5 2 3 3 2 5]\n",
            " [4 4 3 4 2 4]\n",
            " [5 2 3 3 3 3]\n",
            " [4 2 4 3 2 4]\n",
            " [5 2 3 3 4 5]\n",
            " [4 3 3 4 2 4]\n",
            " [3 1 2 4 3 5]\n",
            " [5 3 4 4 4 5]\n",
            " [5 3 3 4 4 5]\n",
            " [1 1 1 3 1 4]\n",
            " [5 2 5 5 5 3]\n",
            " [5 1 3 3 4 4]\n",
            " [5 1 3 3 4 4]\n",
            " [5 1 3 3 4 4]\n",
            " [5 2 4 3 4 5]\n",
            " [5 2 4 3 4 5]\n",
            " [4 3 2 4 3 4]\n",
            " [4 3 2 4 3 4]\n",
            " [5 1 1 5 3 5]\n",
            " [4 4 4 4 3 4]\n",
            " [5 3 5 5 4 5]\n",
            " [5 2 4 2 2 4]\n",
            " [4 3 3 3 3 5]\n",
            " [5 2 4 4 5 5]\n",
            " [5 2 4 4 5 5]\n",
            " [5 5 5 2 5 5]\n",
            " [4 1 3 4 4 4]\n",
            " [4 1 3 4 4 4]\n",
            " [3 3 3 5 4 3]\n",
            " [4 1 1 3 4 4]\n",
            " [5 1 5 5 5 5]\n",
            " [5 4 5 5 5 5]\n",
            " [4 3 3 4 3 4]\n",
            " [4 5 5 5 1 3]\n",
            " [4 3 3 4 2 4]\n",
            " [5 2 3 3 2 5]\n",
            " [5 2 5 5 5 5]\n",
            " [3 2 3 3 4 4]\n",
            " [4 3 2 3 2 4]\n",
            " [5 2 3 5 5 5]\n",
            " [5 3 3 3 2 5]\n",
            " [5 5 5 5 5 5]\n",
            " [4 3 2 4 4 4]\n",
            " [3 3 3 3 3 4]\n",
            " [4 2 4 4 4 4]\n",
            " [5 3 2 4 4 4]\n",
            " [4 3 4 4 2 4]\n",
            " [5 2 3 4 4 5]\n",
            " [5 3 3 3 5 5]\n",
            " [4 1 3 4 4 3]\n",
            " [5 4 2 4 3 5]\n",
            " [3 3 1 3 2 3]\n",
            " [3 4 5 4 5 4]\n",
            " [5 1 3 4 5 5]\n",
            " [5 4 5 5 5 4]\n",
            " [5 4 4 4 4 5]\n",
            " [3 1 3 2 1 2]\n",
            " [5 5 5 5 5 5]\n",
            " [4 4 3 4 3 3]\n",
            " [5 4 5 4 5 4]\n",
            " [4 2 3 4 3 3]\n",
            " [3 3 2 4 4 4]\n",
            " [5 2 2 4 5 5]\n",
            " [5 3 4 3 4 3]\n",
            " [5 2 3 3 3 5]\n",
            " [4 3 4 4 3 4]\n",
            " [4 1 3 5 3 5]\n",
            " [5 1 4 3 5 5]\n",
            " [5 1 5 3 5 5]\n",
            " [4 2 4 4 4 4]\n",
            " [5 2 4 4 5 5]\n",
            " [5 3 4 4 4 4]\n",
            " [5 3 3 4 4 5]\n",
            " [5 3 3 4 4 4]\n",
            " [4 1 3 3 3 4]\n",
            " [5 1 4 4 4 5]\n",
            " [5 2 2 4 4 5]\n",
            " [5 3 5 4 5 5]\n",
            " [3 4 4 5 1 3]\n",
            " [5 1 5 5 5 5]\n",
            " [4 3 3 4 4 4]\n",
            " [5 5 1 1 5 1]\n",
            " [4 4 4 4 1 3]\n",
            " [5 2 3 4 4 3]\n",
            " [5 2 3 4 2 5]\n",
            " [5 3 3 4 4 5]\n",
            " [4 3 3 4 4 5]\n",
            " [5 3 2 5 5 5]]\n"
          ],
          "name": "stdout"
        }
      ]
    },
    {
      "cell_type": "code",
      "metadata": {
        "colab": {
          "base_uri": "https://localhost:8080/"
        },
        "id": "jAHNmEYB1jDr",
        "outputId": "8fba7279-5406-403e-e4fc-c14287995dc6"
      },
      "source": [
        "print(y)"
      ],
      "execution_count": 4,
      "outputs": [
        {
          "output_type": "stream",
          "text": [
            "[0 0 1 0 0 1 0 1 0 0 0 0 1 0 0 1 0 1 0 0 1 0 0 1 1 0 1 1 1 1 0 0 1 1 1 0 1\n",
            " 1 1 1 0 1 0 0 1 1 1 0 1 1 1 1 1 1 1 1 0 0 1 1 0 1 1 0 1 1 0 0 1 1 1 0 1 0\n",
            " 1 0 0 1 0 1 1 0 1 1 0 1 1 0 0 0 0 1 1 1 0 1 0 1 1 0 1 1 0 1 0 1 1 0 0 1 0\n",
            " 0 0 0 0 0 1 1 1 1 0 1 1 1 0 0]\n"
          ],
          "name": "stdout"
        }
      ]
    },
    {
      "cell_type": "markdown",
      "metadata": {
        "id": "d4OX_8Bm1rTg"
      },
      "source": [
        "# **Splitting the dataset into the Training set and Test set**"
      ]
    },
    {
      "cell_type": "code",
      "metadata": {
        "id": "6_x1Sr4l1l-O"
      },
      "source": [
        "from sklearn.model_selection import train_test_split\n",
        "X_train, X_test, y_train, y_test = train_test_split(X, y, test_size = 0.2, random_state = 0)"
      ],
      "execution_count": 5,
      "outputs": []
    },
    {
      "cell_type": "markdown",
      "metadata": {
        "id": "fXOJsJPP2ZdZ"
      },
      "source": [
        "# **Feature Scaling**"
      ]
    },
    {
      "cell_type": "code",
      "metadata": {
        "id": "r9oTA3W_1yBI"
      },
      "source": [
        "from sklearn.preprocessing import StandardScaler\n",
        "sc = StandardScaler()\n",
        "X_train = sc.fit_transform(X_train)\n",
        "X_test = sc.transform(X_test)"
      ],
      "execution_count": 6,
      "outputs": []
    },
    {
      "cell_type": "code",
      "metadata": {
        "colab": {
          "base_uri": "https://localhost:8080/"
        },
        "id": "a0jqPWqD2g3V",
        "outputId": "23499a16-e5c5-4996-9512-f2f690cfb902"
      },
      "source": [
        "print(X_train)"
      ],
      "execution_count": 7,
      "outputs": [
        {
          "output_type": "stream",
          "text": [
            "[[-1.59578202  1.34567699  0.71234775  1.45957729 -2.39185652 -1.63056169]\n",
            " [-0.37762781 -0.47280543  0.71234775  1.45957729  0.31590558 -1.63056169]\n",
            " [-1.59578202 -0.47280543  0.71234775  0.31030383  0.31590558  0.89744093]\n",
            " [-1.59578202 -0.47280543 -0.27702412 -0.83896962  0.31590558 -0.36656038]\n",
            " [-1.59578202  0.43643578 -0.27702412  1.45957729  1.21849294  0.89744093]\n",
            " [-0.37762781  1.34567699  0.71234775  0.31030383 -2.39185652 -1.63056169]\n",
            " [ 0.84052641 -0.47280543  0.71234775  0.31030383  1.21849294  0.89744093]\n",
            " [-0.37762781  0.43643578 -0.27702412 -0.83896962 -0.58668179  0.89744093]\n",
            " [ 0.84052641  0.43643578 -1.26639599  1.45957729  1.21849294  0.89744093]\n",
            " [ 0.84052641  0.43643578 -0.27702412 -0.83896962 -1.48926915  0.89744093]\n",
            " [ 0.84052641  1.34567699 -0.27702412 -0.83896962 -0.58668179  0.89744093]\n",
            " [-1.59578202  0.43643578 -0.27702412  1.45957729  0.31590558 -1.63056169]\n",
            " [-1.59578202 -1.38204664 -1.26639599 -1.98824308 -2.39185652 -1.63056169]\n",
            " [ 0.84052641 -0.47280543  0.71234775 -1.98824308 -1.48926915 -0.36656038]\n",
            " [-0.37762781 -1.38204664 -0.27702412  1.45957729 -0.58668179  0.89744093]\n",
            " [ 0.84052641  2.2549182   1.70171961  1.45957729  1.21849294  0.89744093]\n",
            " [ 0.84052641  0.43643578  0.71234775  0.31030383  0.31590558 -0.36656038]\n",
            " [ 0.84052641 -1.38204664 -0.27702412 -0.83896962  0.31590558 -0.36656038]\n",
            " [ 0.84052641  0.43643578 -0.27702412  0.31030383  0.31590558  0.89744093]\n",
            " [ 0.84052641 -1.38204664  1.70171961  1.45957729  1.21849294  0.89744093]\n",
            " [-1.59578202  0.43643578 -2.25576786 -0.83896962 -0.58668179 -0.36656038]\n",
            " [ 0.84052641 -1.38204664 -1.26639599  0.31030383  0.31590558  0.89744093]\n",
            " [ 0.84052641  2.2549182  -2.25576786 -3.13751654  1.21849294 -4.15856431]\n",
            " [-0.37762781  1.34567699 -0.27702412  0.31030383  0.31590558 -0.36656038]\n",
            " [-1.59578202  1.34567699  1.70171961  0.31030383  1.21849294 -0.36656038]\n",
            " [ 0.84052641 -0.47280543 -0.27702412 -0.83896962 -1.48926915  0.89744093]\n",
            " [ 0.84052641 -0.47280543  0.71234775  0.31030383  1.21849294  0.89744093]\n",
            " [-1.59578202  0.43643578 -2.25576786 -0.83896962 -1.48926915 -1.63056169]\n",
            " [ 0.84052641  1.34567699  1.70171961  0.31030383  1.21849294 -0.36656038]\n",
            " [-1.59578202 -0.47280543 -0.27702412  1.45957729  0.31590558 -1.63056169]\n",
            " [-0.37762781  0.43643578 -1.26639599 -0.83896962 -1.48926915 -0.36656038]\n",
            " [ 0.84052641 -0.47280543 -0.27702412 -0.83896962  0.31590558  0.89744093]\n",
            " [-0.37762781 -0.47280543  0.71234775 -0.83896962 -1.48926915 -0.36656038]\n",
            " [ 0.84052641  1.34567699 -0.27702412 -0.83896962 -0.58668179  0.89744093]\n",
            " [-1.59578202 -0.47280543  0.71234775 -0.83896962  0.31590558 -0.36656038]\n",
            " [ 0.84052641 -1.38204664  0.71234775 -0.83896962  0.31590558  0.89744093]\n",
            " [ 0.84052641 -0.47280543  0.71234775 -0.83896962  0.31590558  0.89744093]\n",
            " [ 0.84052641 -0.47280543 -0.27702412 -0.83896962 -0.58668179 -1.63056169]\n",
            " [ 0.84052641 -0.47280543 -0.27702412 -0.83896962 -1.48926915  0.89744093]\n",
            " [ 0.84052641  2.2549182  -0.27702412  1.45957729  1.21849294  0.89744093]\n",
            " [ 0.84052641 -0.47280543  0.71234775 -0.83896962  0.31590558  0.89744093]\n",
            " [ 0.84052641  0.43643578  1.70171961  0.31030383  1.21849294  0.89744093]\n",
            " [ 0.84052641  1.34567699  0.71234775  0.31030383  0.31590558  0.89744093]\n",
            " [-1.59578202  0.43643578 -0.27702412  0.31030383 -1.48926915 -0.36656038]\n",
            " [-0.37762781 -1.38204664 -0.27702412 -3.13751654 -2.39185652 -0.36656038]\n",
            " [-1.59578202  0.43643578 -2.25576786 -0.83896962 -0.58668179 -0.36656038]\n",
            " [-0.37762781  0.43643578 -1.26639599  0.31030383 -0.58668179 -0.36656038]\n",
            " [-0.37762781 -0.47280543 -0.27702412 -0.83896962  0.31590558 -0.36656038]\n",
            " [ 0.84052641 -1.38204664 -1.26639599  1.45957729 -1.48926915 -0.36656038]\n",
            " [ 0.84052641 -0.47280543  1.70171961  1.45957729  1.21849294  0.89744093]\n",
            " [-0.37762781 -1.38204664 -0.27702412  0.31030383  0.31590558  0.89744093]\n",
            " [ 0.84052641  0.43643578  0.71234775 -0.83896962  0.31590558 -1.63056169]\n",
            " [-0.37762781  1.34567699  0.71234775  0.31030383 -0.58668179 -0.36656038]\n",
            " [-0.37762781  1.34567699 -0.27702412  0.31030383 -0.58668179 -1.63056169]\n",
            " [-0.37762781 -0.47280543  0.71234775  0.31030383  0.31590558 -0.36656038]\n",
            " [-1.59578202 -0.47280543  0.71234775  0.31030383  0.31590558  0.89744093]\n",
            " [ 0.84052641 -1.38204664  0.71234775 -0.83896962  1.21849294  0.89744093]\n",
            " [-0.37762781 -1.38204664 -0.27702412 -0.83896962  0.31590558 -1.63056169]\n",
            " [ 0.84052641 -0.47280543 -0.27702412  0.31030383  0.31590558  0.89744093]\n",
            " [-0.37762781 -0.47280543  0.71234775  0.31030383  0.31590558 -0.36656038]\n",
            " [ 0.84052641  0.43643578 -0.27702412 -0.83896962  1.21849294 -1.63056169]\n",
            " [ 0.84052641 -1.38204664 -0.27702412 -0.83896962  0.31590558 -0.36656038]\n",
            " [ 0.84052641 -1.38204664  1.70171961 -0.83896962  1.21849294  0.89744093]\n",
            " [-0.37762781 -0.47280543  0.71234775  0.31030383  0.31590558 -0.36656038]\n",
            " [ 0.84052641 -0.47280543 -0.27702412  0.31030383 -1.48926915  0.89744093]\n",
            " [-0.37762781  0.43643578 -0.27702412  0.31030383  0.31590558  0.89744093]\n",
            " [ 0.84052641  2.2549182   1.70171961  1.45957729  1.21849294  0.89744093]\n",
            " [ 0.84052641  1.34567699  1.70171961  1.45957729  1.21849294  0.89744093]\n",
            " [-0.37762781  0.43643578 -1.26639599  0.31030383  0.31590558 -0.36656038]\n",
            " [-0.37762781 -0.47280543 -0.27702412 -0.83896962  0.31590558 -0.36656038]\n",
            " [-0.37762781  0.43643578 -0.27702412  0.31030383  0.31590558 -0.36656038]\n",
            " [-0.37762781  0.43643578 -0.27702412  0.31030383 -1.48926915 -0.36656038]\n",
            " [ 0.84052641 -0.47280543 -0.27702412  1.45957729  1.21849294  0.89744093]\n",
            " [-1.59578202  1.34567699 -0.27702412 -0.83896962 -1.48926915 -1.63056169]\n",
            " [ 0.84052641  0.43643578  0.71234775 -0.83896962  0.31590558  0.89744093]\n",
            " [-1.59578202  0.43643578 -0.27702412 -0.83896962 -0.58668179 -0.36656038]\n",
            " [ 0.84052641  0.43643578 -0.27702412  0.31030383  0.31590558  0.89744093]\n",
            " [ 0.84052641  0.43643578 -0.27702412  0.31030383  0.31590558  0.89744093]\n",
            " [ 0.84052641 -1.38204664  0.71234775  0.31030383  0.31590558  0.89744093]\n",
            " [-0.37762781  1.34567699 -0.27702412  0.31030383 -1.48926915 -0.36656038]\n",
            " [ 0.84052641 -0.47280543 -0.27702412 -0.83896962 -0.58668179  0.89744093]\n",
            " [-0.37762781 -1.38204664 -0.27702412  0.31030383  0.31590558 -0.36656038]\n",
            " [ 0.84052641  0.43643578  1.70171961  1.45957729  0.31590558  0.89744093]\n",
            " [ 0.84052641 -0.47280543  0.71234775  1.45957729  1.21849294  0.89744093]\n",
            " [ 0.84052641  0.43643578 -0.27702412  0.31030383  0.31590558 -0.36656038]\n",
            " [ 0.84052641  1.34567699 -1.26639599  0.31030383 -0.58668179  0.89744093]\n",
            " [-0.37762781  0.43643578 -0.27702412  0.31030383 -0.58668179 -0.36656038]\n",
            " [-0.37762781 -1.38204664 -0.27702412  0.31030383  0.31590558 -1.63056169]\n",
            " [ 0.84052641  0.43643578  0.71234775 -0.83896962  0.31590558  0.89744093]\n",
            " [ 0.84052641 -0.47280543 -1.26639599  0.31030383  0.31590558  0.89744093]\n",
            " [-0.37762781  0.43643578  1.70171961  1.45957729  1.21849294 -0.36656038]\n",
            " [ 0.84052641  0.43643578 -1.26639599  0.31030383  0.31590558 -0.36656038]\n",
            " [-0.37762781  1.34567699  0.71234775 -1.98824308  1.21849294  0.89744093]\n",
            " [-0.37762781  0.43643578  0.71234775  0.31030383 -0.58668179 -0.36656038]\n",
            " [ 0.84052641 -0.47280543 -0.27702412  0.31030383  0.31590558 -1.63056169]\n",
            " [-0.37762781 -1.38204664 -2.25576786 -0.83896962  0.31590558 -0.36656038]\n",
            " [-0.37762781 -1.38204664 -0.27702412  0.31030383  0.31590558 -0.36656038]\n",
            " [ 0.84052641 -1.38204664  1.70171961  1.45957729  1.21849294  0.89744093]\n",
            " [-4.03209045 -1.38204664 -2.25576786 -0.83896962 -2.39185652 -0.36656038]\n",
            " [-1.59578202 -1.38204664 -1.26639599  0.31030383 -0.58668179  0.89744093]]\n"
          ],
          "name": "stdout"
        }
      ]
    },
    {
      "cell_type": "code",
      "metadata": {
        "colab": {
          "base_uri": "https://localhost:8080/"
        },
        "id": "NyTocBZj2yM7",
        "outputId": "3bff0052-a93d-4066-d49d-7752069511c0"
      },
      "source": [
        "print(X_test)"
      ],
      "execution_count": 8,
      "outputs": [
        {
          "output_type": "stream",
          "text": [
            "[[-0.37762781 -1.38204664  0.71234775  0.31030383  0.31590558 -0.36656038]\n",
            " [ 0.84052641 -1.38204664 -0.27702412 -0.83896962  0.31590558 -0.36656038]\n",
            " [-0.37762781  0.43643578 -0.27702412  0.31030383 -1.48926915 -0.36656038]\n",
            " [-0.37762781  0.43643578 -0.27702412 -0.83896962 -0.58668179 -0.36656038]\n",
            " [ 0.84052641  2.2549182   1.70171961 -1.98824308  1.21849294  0.89744093]\n",
            " [-1.59578202  0.43643578 -1.26639599  0.31030383  0.31590558 -0.36656038]\n",
            " [-0.37762781  0.43643578 -1.26639599  0.31030383 -0.58668179 -0.36656038]\n",
            " [ 0.84052641 -1.38204664 -0.27702412  0.31030383  1.21849294  0.89744093]\n",
            " [ 0.84052641  1.34567699  0.71234775  0.31030383  0.31590558  0.89744093]\n",
            " [-0.37762781 -1.38204664 -0.27702412 -0.83896962 -0.58668179 -0.36656038]\n",
            " [-1.59578202 -0.47280543 -0.27702412 -0.83896962 -1.48926915 -1.63056169]\n",
            " [-0.37762781  2.2549182   1.70171961  1.45957729 -2.39185652 -1.63056169]\n",
            " [-0.37762781 -0.47280543 -0.27702412  0.31030383 -0.58668179 -1.63056169]\n",
            " [ 0.84052641 -0.47280543  1.70171961  1.45957729  1.21849294 -1.63056169]\n",
            " [ 0.84052641  0.43643578 -0.27702412 -0.83896962  1.21849294  0.89744093]\n",
            " [ 0.84052641  0.43643578 -0.27702412 -0.83896962 -0.58668179  0.89744093]\n",
            " [ 0.84052641 -0.47280543 -1.26639599  0.31030383  1.21849294  0.89744093]\n",
            " [-0.37762781  0.43643578  0.71234775  0.31030383 -1.48926915 -0.36656038]\n",
            " [-0.37762781  0.43643578  1.70171961  1.45957729  1.21849294 -0.36656038]\n",
            " [ 0.84052641  0.43643578  0.71234775  0.31030383  0.31590558  0.89744093]\n",
            " [ 0.84052641 -1.38204664 -2.25576786  1.45957729 -0.58668179  0.89744093]\n",
            " [ 0.84052641  1.34567699  1.70171961  1.45957729  1.21849294 -0.36656038]\n",
            " [-1.59578202 -1.38204664 -0.27702412 -1.98824308 -2.39185652 -2.894563  ]\n",
            " [ 0.84052641 -0.47280543  0.71234775  0.31030383  1.21849294  0.89744093]\n",
            " [ 0.84052641  0.43643578  0.71234775  1.45957729  0.31590558  0.89744093]\n",
            " [ 0.84052641  0.43643578 -0.27702412 -0.83896962  1.21849294 -1.63056169]]\n"
          ],
          "name": "stdout"
        }
      ]
    },
    {
      "cell_type": "markdown",
      "metadata": {
        "id": "tMK59_Mb4OZS"
      },
      "source": [
        "# **Decision Tree Classification model**"
      ]
    },
    {
      "cell_type": "markdown",
      "metadata": {
        "id": "fCsOFzs92hxg"
      },
      "source": [
        "# **Training the Decision Tree Classification model on the Training set**"
      ]
    },
    {
      "cell_type": "code",
      "metadata": {
        "colab": {
          "base_uri": "https://localhost:8080/"
        },
        "id": "w85I_aHr31Hw",
        "outputId": "c707f831-85dd-411c-fca0-69a3f5db4c5d"
      },
      "source": [
        "from sklearn.tree import DecisionTreeClassifier\n",
        "classifier = DecisionTreeClassifier(criterion = 'entropy', random_state = 0)\n",
        "classifier.fit(X_train, y_train)"
      ],
      "execution_count": 9,
      "outputs": [
        {
          "output_type": "execute_result",
          "data": {
            "text/plain": [
              "DecisionTreeClassifier(ccp_alpha=0.0, class_weight=None, criterion='entropy',\n",
              "                       max_depth=None, max_features=None, max_leaf_nodes=None,\n",
              "                       min_impurity_decrease=0.0, min_impurity_split=None,\n",
              "                       min_samples_leaf=1, min_samples_split=2,\n",
              "                       min_weight_fraction_leaf=0.0, presort='deprecated',\n",
              "                       random_state=0, splitter='best')"
            ]
          },
          "metadata": {
            "tags": []
          },
          "execution_count": 9
        }
      ]
    },
    {
      "cell_type": "code",
      "metadata": {
        "colab": {
          "base_uri": "https://localhost:8080/"
        },
        "id": "-L4tIOoV9Cw3",
        "outputId": "7fae4c93-e287-40e3-dcfc-42b3c82ad21d"
      },
      "source": [
        "y_pred = classifier.predict(X_test)\n",
        "print(np.concatenate((y_pred.reshape(len(y_pred),1), y_test.reshape(len(y_test),1)),1))"
      ],
      "execution_count": 10,
      "outputs": [
        {
          "output_type": "stream",
          "text": [
            "[[0 0]\n",
            " [1 1]\n",
            " [1 0]\n",
            " [0 1]\n",
            " [1 0]\n",
            " [1 0]\n",
            " [1 1]\n",
            " [1 1]\n",
            " [1 1]\n",
            " [0 0]\n",
            " [0 0]\n",
            " [0 0]\n",
            " [0 1]\n",
            " [1 1]\n",
            " [0 1]\n",
            " [0 1]\n",
            " [0 1]\n",
            " [1 0]\n",
            " [0 0]\n",
            " [0 1]\n",
            " [0 0]\n",
            " [1 1]\n",
            " [0 0]\n",
            " [0 1]\n",
            " [1 0]\n",
            " [1 0]]\n"
          ],
          "name": "stdout"
        }
      ]
    },
    {
      "cell_type": "markdown",
      "metadata": {
        "id": "dGJiOnSA36DD"
      },
      "source": [
        "# **Making the Confusion Matrix**"
      ]
    },
    {
      "cell_type": "code",
      "metadata": {
        "colab": {
          "base_uri": "https://localhost:8080/"
        },
        "id": "G9qG_slj3408",
        "outputId": "1a077dac-40af-40a5-f2a2-ffc59c219429"
      },
      "source": [
        "from sklearn.metrics import confusion_matrix, accuracy_score\n",
        "y_pred = classifier.predict(X_test)\n",
        "cm = confusion_matrix(y_test, y_pred)\n",
        "print(cm)\n",
        "accuracy_score(y_test, y_pred)"
      ],
      "execution_count": 11,
      "outputs": [
        {
          "output_type": "stream",
          "text": [
            "[[7 6]\n",
            " [7 6]]\n"
          ],
          "name": "stdout"
        },
        {
          "output_type": "execute_result",
          "data": {
            "text/plain": [
              "0.5"
            ]
          },
          "metadata": {
            "tags": []
          },
          "execution_count": 11
        }
      ]
    },
    {
      "cell_type": "markdown",
      "metadata": {
        "id": "UfhbcFiQ4XZd"
      },
      "source": [
        "# **K-Nearest Neighbors (K-NN)**"
      ]
    },
    {
      "cell_type": "markdown",
      "metadata": {
        "id": "Qh37yTvS4sZF"
      },
      "source": [
        "# **Training the K-NN model on the Training set**"
      ]
    },
    {
      "cell_type": "code",
      "metadata": {
        "colab": {
          "base_uri": "https://localhost:8080/"
        },
        "id": "PHpxC35b4CEU",
        "outputId": "902070da-f93b-4597-ac7c-89afb1bb3edd"
      },
      "source": [
        "from sklearn.neighbors import KNeighborsClassifier\n",
        "classifier = KNeighborsClassifier(n_neighbors = 10, metric = 'minkowski', p = 2)\n",
        "classifier.fit(X_train, y_train)"
      ],
      "execution_count": 12,
      "outputs": [
        {
          "output_type": "execute_result",
          "data": {
            "text/plain": [
              "KNeighborsClassifier(algorithm='auto', leaf_size=30, metric='minkowski',\n",
              "                     metric_params=None, n_jobs=None, n_neighbors=10, p=2,\n",
              "                     weights='uniform')"
            ]
          },
          "metadata": {
            "tags": []
          },
          "execution_count": 12
        }
      ]
    },
    {
      "cell_type": "code",
      "metadata": {
        "colab": {
          "base_uri": "https://localhost:8080/"
        },
        "id": "FN_hswqn9L4k",
        "outputId": "563e3eeb-a379-4cd9-e69c-2caecca8126e"
      },
      "source": [
        "y_pred = classifier.predict(X_test)\n",
        "print(np.concatenate((y_pred.reshape(len(y_pred),1), y_test.reshape(len(y_test),1)),1))"
      ],
      "execution_count": 13,
      "outputs": [
        {
          "output_type": "stream",
          "text": [
            "[[0 0]\n",
            " [1 1]\n",
            " [1 0]\n",
            " [1 1]\n",
            " [1 0]\n",
            " [1 0]\n",
            " [1 1]\n",
            " [0 1]\n",
            " [1 1]\n",
            " [1 0]\n",
            " [0 0]\n",
            " [0 0]\n",
            " [1 1]\n",
            " [1 1]\n",
            " [1 1]\n",
            " [0 1]\n",
            " [0 1]\n",
            " [0 0]\n",
            " [0 0]\n",
            " [1 1]\n",
            " [0 0]\n",
            " [1 1]\n",
            " [0 0]\n",
            " [1 1]\n",
            " [1 0]\n",
            " [1 0]]\n"
          ],
          "name": "stdout"
        }
      ]
    },
    {
      "cell_type": "markdown",
      "metadata": {
        "id": "9VuGBbo14zyu"
      },
      "source": [
        "# **Making the Confusion Matrix**"
      ]
    },
    {
      "cell_type": "code",
      "metadata": {
        "colab": {
          "base_uri": "https://localhost:8080/"
        },
        "id": "Xmhp-mef45_8",
        "outputId": "d9dcb366-4fce-4567-a845-63d3ff21462b"
      },
      "source": [
        "from sklearn.metrics import confusion_matrix, accuracy_score\n",
        "y_pred = classifier.predict(X_test)\n",
        "cm = confusion_matrix(y_test, y_pred)\n",
        "print(cm)\n",
        "accuracy_score(y_test, y_pred)"
      ],
      "execution_count": 14,
      "outputs": [
        {
          "output_type": "stream",
          "text": [
            "[[ 7  6]\n",
            " [ 3 10]]\n"
          ],
          "name": "stdout"
        },
        {
          "output_type": "execute_result",
          "data": {
            "text/plain": [
              "0.6538461538461539"
            ]
          },
          "metadata": {
            "tags": []
          },
          "execution_count": 14
        }
      ]
    },
    {
      "cell_type": "markdown",
      "metadata": {
        "id": "RezPKN8f5NOk"
      },
      "source": [
        "# **Support Vector Machine (SVM)**"
      ]
    },
    {
      "cell_type": "markdown",
      "metadata": {
        "id": "604cSDoB5aHW"
      },
      "source": [
        "# **Training the SVM model on the Training set**"
      ]
    },
    {
      "cell_type": "code",
      "metadata": {
        "colab": {
          "base_uri": "https://localhost:8080/"
        },
        "id": "buC_4iKE489s",
        "outputId": "f55612cc-c5be-4b19-ed51-8516206243b2"
      },
      "source": [
        "from sklearn.svm import SVC\n",
        "classifier = SVC(kernel = 'linear', random_state = 0)\n",
        "classifier.fit(X_train, y_train)"
      ],
      "execution_count": 15,
      "outputs": [
        {
          "output_type": "execute_result",
          "data": {
            "text/plain": [
              "SVC(C=1.0, break_ties=False, cache_size=200, class_weight=None, coef0=0.0,\n",
              "    decision_function_shape='ovr', degree=3, gamma='scale', kernel='linear',\n",
              "    max_iter=-1, probability=False, random_state=0, shrinking=True, tol=0.001,\n",
              "    verbose=False)"
            ]
          },
          "metadata": {
            "tags": []
          },
          "execution_count": 15
        }
      ]
    },
    {
      "cell_type": "code",
      "metadata": {
        "colab": {
          "base_uri": "https://localhost:8080/"
        },
        "id": "3ETOdK8F9Oka",
        "outputId": "c96a7740-41bd-4aca-8cab-5db75fc0eff9"
      },
      "source": [
        "y_pred = classifier.predict(X_test)\n",
        "print(np.concatenate((y_pred.reshape(len(y_pred),1), y_test.reshape(len(y_test),1)),1))"
      ],
      "execution_count": 16,
      "outputs": [
        {
          "output_type": "stream",
          "text": [
            "[[0 0]\n",
            " [1 1]\n",
            " [0 0]\n",
            " [1 1]\n",
            " [1 0]\n",
            " [0 0]\n",
            " [1 1]\n",
            " [1 1]\n",
            " [1 1]\n",
            " [0 0]\n",
            " [0 0]\n",
            " [0 0]\n",
            " [0 1]\n",
            " [1 1]\n",
            " [1 1]\n",
            " [1 1]\n",
            " [1 1]\n",
            " [0 0]\n",
            " [1 0]\n",
            " [1 1]\n",
            " [1 0]\n",
            " [1 1]\n",
            " [0 0]\n",
            " [1 1]\n",
            " [1 0]\n",
            " [1 0]]\n"
          ],
          "name": "stdout"
        }
      ]
    },
    {
      "cell_type": "markdown",
      "metadata": {
        "id": "iK0B5CIT5n0X"
      },
      "source": [
        "# **Making the Confusion Matrix**"
      ]
    },
    {
      "cell_type": "code",
      "metadata": {
        "colab": {
          "base_uri": "https://localhost:8080/"
        },
        "id": "_FTOxIox5mev",
        "outputId": "4e13f5ba-1886-4ebf-f3df-9337bd773466"
      },
      "source": [
        "from sklearn.metrics import confusion_matrix, accuracy_score\n",
        "y_pred = classifier.predict(X_test)\n",
        "cm = confusion_matrix(y_test, y_pred)\n",
        "print(cm)\n",
        "accuracy_score(y_test, y_pred)"
      ],
      "execution_count": 17,
      "outputs": [
        {
          "output_type": "stream",
          "text": [
            "[[ 8  5]\n",
            " [ 1 12]]\n"
          ],
          "name": "stdout"
        },
        {
          "output_type": "execute_result",
          "data": {
            "text/plain": [
              "0.7692307692307693"
            ]
          },
          "metadata": {
            "tags": []
          },
          "execution_count": 17
        }
      ]
    },
    {
      "cell_type": "markdown",
      "metadata": {
        "id": "iZla9sDh54U8"
      },
      "source": [
        "# **Kernel SVM**"
      ]
    },
    {
      "cell_type": "markdown",
      "metadata": {
        "id": "qM0fVoYo6FTo"
      },
      "source": [
        "# **Training the Kernel SVM model on the Training set**"
      ]
    },
    {
      "cell_type": "code",
      "metadata": {
        "colab": {
          "base_uri": "https://localhost:8080/"
        },
        "id": "oz0rzzUC5wqc",
        "outputId": "5ff94dea-9b45-4188-dcd5-bc4814df2712"
      },
      "source": [
        "from sklearn.svm import SVC\n",
        "classifier = SVC(kernel = 'rbf', random_state = 0)\n",
        "classifier.fit(X_train, y_train)"
      ],
      "execution_count": 18,
      "outputs": [
        {
          "output_type": "execute_result",
          "data": {
            "text/plain": [
              "SVC(C=1.0, break_ties=False, cache_size=200, class_weight=None, coef0=0.0,\n",
              "    decision_function_shape='ovr', degree=3, gamma='scale', kernel='rbf',\n",
              "    max_iter=-1, probability=False, random_state=0, shrinking=True, tol=0.001,\n",
              "    verbose=False)"
            ]
          },
          "metadata": {
            "tags": []
          },
          "execution_count": 18
        }
      ]
    },
    {
      "cell_type": "code",
      "metadata": {
        "colab": {
          "base_uri": "https://localhost:8080/"
        },
        "id": "jWOwX4td9SuC",
        "outputId": "8896f1b5-2c2d-4147-887c-15345122d4e2"
      },
      "source": [
        "y_pred = classifier.predict(X_test)\n",
        "print(np.concatenate((y_pred.reshape(len(y_pred),1), y_test.reshape(len(y_test),1)),1))"
      ],
      "execution_count": 19,
      "outputs": [
        {
          "output_type": "stream",
          "text": [
            "[[1 0]\n",
            " [1 1]\n",
            " [1 0]\n",
            " [0 1]\n",
            " [1 0]\n",
            " [1 0]\n",
            " [1 1]\n",
            " [1 1]\n",
            " [1 1]\n",
            " [1 0]\n",
            " [0 0]\n",
            " [0 0]\n",
            " [0 1]\n",
            " [0 1]\n",
            " [1 1]\n",
            " [0 1]\n",
            " [0 1]\n",
            " [1 0]\n",
            " [0 0]\n",
            " [1 1]\n",
            " [0 0]\n",
            " [1 1]\n",
            " [0 0]\n",
            " [1 1]\n",
            " [1 0]\n",
            " [1 0]]\n"
          ],
          "name": "stdout"
        }
      ]
    },
    {
      "cell_type": "markdown",
      "metadata": {
        "id": "U97atbIr6PA5"
      },
      "source": [
        "\n",
        "# **Making the Confusion Matrix** "
      ]
    },
    {
      "cell_type": "code",
      "metadata": {
        "colab": {
          "base_uri": "https://localhost:8080/"
        },
        "id": "8Qik1zxq6N0m",
        "outputId": "4a0cf70b-7ad1-4a67-c500-cf1ed8e88fd1"
      },
      "source": [
        "from sklearn.metrics import confusion_matrix, accuracy_score\n",
        "y_pred = classifier.predict(X_test)\n",
        "cm = confusion_matrix(y_test, y_pred)\n",
        "print(cm)\n",
        "accuracy_score(y_test, y_pred)"
      ],
      "execution_count": 20,
      "outputs": [
        {
          "output_type": "stream",
          "text": [
            "[[5 8]\n",
            " [5 8]]\n"
          ],
          "name": "stdout"
        },
        {
          "output_type": "execute_result",
          "data": {
            "text/plain": [
              "0.5"
            ]
          },
          "metadata": {
            "tags": []
          },
          "execution_count": 20
        }
      ]
    },
    {
      "cell_type": "markdown",
      "metadata": {
        "id": "qbj2caup6seq"
      },
      "source": [
        "# **Logistic Regression**"
      ]
    },
    {
      "cell_type": "markdown",
      "metadata": {
        "id": "iR0rprxF6vog"
      },
      "source": [
        "\n",
        "# **Training the Logistic Regression model on the Training set**"
      ]
    },
    {
      "cell_type": "code",
      "metadata": {
        "colab": {
          "base_uri": "https://localhost:8080/"
        },
        "id": "rZB_F99M6ato",
        "outputId": "5b24fbce-00da-4c15-b297-fc64d2b343e8"
      },
      "source": [
        "from sklearn.linear_model import LogisticRegression\n",
        "classifier = LogisticRegression(random_state = 0)\n",
        "classifier.fit(X_train, y_train)"
      ],
      "execution_count": 21,
      "outputs": [
        {
          "output_type": "execute_result",
          "data": {
            "text/plain": [
              "LogisticRegression(C=1.0, class_weight=None, dual=False, fit_intercept=True,\n",
              "                   intercept_scaling=1, l1_ratio=None, max_iter=100,\n",
              "                   multi_class='auto', n_jobs=None, penalty='l2',\n",
              "                   random_state=0, solver='lbfgs', tol=0.0001, verbose=0,\n",
              "                   warm_start=False)"
            ]
          },
          "metadata": {
            "tags": []
          },
          "execution_count": 21
        }
      ]
    },
    {
      "cell_type": "code",
      "metadata": {
        "colab": {
          "base_uri": "https://localhost:8080/"
        },
        "id": "Dmycud709Uvw",
        "outputId": "15a22911-b934-449a-d234-0430d66ed672"
      },
      "source": [
        "y_pred = classifier.predict(X_test)\n",
        "print(np.concatenate((y_pred.reshape(len(y_pred),1), y_test.reshape(len(y_test),1)),1))"
      ],
      "execution_count": 22,
      "outputs": [
        {
          "output_type": "stream",
          "text": [
            "[[1 0]\n",
            " [1 1]\n",
            " [0 0]\n",
            " [0 1]\n",
            " [1 0]\n",
            " [0 0]\n",
            " [0 1]\n",
            " [1 1]\n",
            " [1 1]\n",
            " [1 0]\n",
            " [0 0]\n",
            " [1 0]\n",
            " [1 1]\n",
            " [1 1]\n",
            " [1 1]\n",
            " [1 1]\n",
            " [1 1]\n",
            " [1 0]\n",
            " [1 0]\n",
            " [1 1]\n",
            " [0 0]\n",
            " [1 1]\n",
            " [0 0]\n",
            " [1 1]\n",
            " [1 0]\n",
            " [1 0]]\n"
          ],
          "name": "stdout"
        }
      ]
    },
    {
      "cell_type": "markdown",
      "metadata": {
        "id": "wjg6AHYz657T"
      },
      "source": [
        "# **Making the Confusion Matrix**"
      ]
    },
    {
      "cell_type": "code",
      "metadata": {
        "colab": {
          "base_uri": "https://localhost:8080/"
        },
        "id": "CGbt1aFx64fk",
        "outputId": "6379d86a-4b89-4926-8a3b-f123e57a66bf"
      },
      "source": [
        "from sklearn.metrics import confusion_matrix, accuracy_score\n",
        "y_pred = classifier.predict(X_test)\n",
        "cm = confusion_matrix(y_test, y_pred)\n",
        "print(cm)\n",
        "accuracy_score(y_test, y_pred)"
      ],
      "execution_count": 23,
      "outputs": [
        {
          "output_type": "stream",
          "text": [
            "[[ 5  8]\n",
            " [ 2 11]]\n"
          ],
          "name": "stdout"
        },
        {
          "output_type": "execute_result",
          "data": {
            "text/plain": [
              "0.6153846153846154"
            ]
          },
          "metadata": {
            "tags": []
          },
          "execution_count": 23
        }
      ]
    },
    {
      "cell_type": "markdown",
      "metadata": {
        "id": "0Lju3OKG7NOZ"
      },
      "source": [
        "# **Naive Bayes**"
      ]
    },
    {
      "cell_type": "markdown",
      "metadata": {
        "id": "j_mosGo17R50"
      },
      "source": [
        "# **Training the Naive Bayes model on the Training set**"
      ]
    },
    {
      "cell_type": "code",
      "metadata": {
        "colab": {
          "base_uri": "https://localhost:8080/"
        },
        "id": "7betyUed7BEu",
        "outputId": "725716c7-ee01-4fca-87cf-4435b4aa9708"
      },
      "source": [
        "from sklearn.naive_bayes import GaussianNB\n",
        "classifier = GaussianNB()\n",
        "classifier.fit(X_train, y_train)"
      ],
      "execution_count": 24,
      "outputs": [
        {
          "output_type": "execute_result",
          "data": {
            "text/plain": [
              "GaussianNB(priors=None, var_smoothing=1e-09)"
            ]
          },
          "metadata": {
            "tags": []
          },
          "execution_count": 24
        }
      ]
    },
    {
      "cell_type": "code",
      "metadata": {
        "colab": {
          "base_uri": "https://localhost:8080/"
        },
        "id": "bErGt2Lo9Wm6",
        "outputId": "268704e7-7a10-4eaf-afe2-9431d5bbc348"
      },
      "source": [
        "y_pred = classifier.predict(X_test)\n",
        "print(np.concatenate((y_pred.reshape(len(y_pred),1), y_test.reshape(len(y_test),1)),1))"
      ],
      "execution_count": 25,
      "outputs": [
        {
          "output_type": "stream",
          "text": [
            "[[1 0]\n",
            " [1 1]\n",
            " [0 0]\n",
            " [0 1]\n",
            " [1 0]\n",
            " [0 0]\n",
            " [0 1]\n",
            " [1 1]\n",
            " [1 1]\n",
            " [0 0]\n",
            " [0 0]\n",
            " [1 0]\n",
            " [0 1]\n",
            " [1 1]\n",
            " [1 1]\n",
            " [1 1]\n",
            " [1 1]\n",
            " [0 0]\n",
            " [1 0]\n",
            " [1 1]\n",
            " [1 0]\n",
            " [1 1]\n",
            " [0 0]\n",
            " [1 1]\n",
            " [1 0]\n",
            " [1 0]]\n"
          ],
          "name": "stdout"
        }
      ]
    },
    {
      "cell_type": "markdown",
      "metadata": {
        "id": "iFkyJmRV7c3D"
      },
      "source": [
        "# **Making the Confusion Matrix**"
      ]
    },
    {
      "cell_type": "code",
      "metadata": {
        "colab": {
          "base_uri": "https://localhost:8080/"
        },
        "id": "a0cGjiVA7Z3C",
        "outputId": "baaf2400-1f27-49ab-a4a3-71d6ea6ed993"
      },
      "source": [
        "from sklearn.metrics import confusion_matrix, accuracy_score\n",
        "y_pred = classifier.predict(X_test)\n",
        "cm = confusion_matrix(y_test, y_pred)\n",
        "print(cm)\n",
        "accuracy_score(y_test, y_pred)"
      ],
      "execution_count": 26,
      "outputs": [
        {
          "output_type": "stream",
          "text": [
            "[[ 6  7]\n",
            " [ 3 10]]\n"
          ],
          "name": "stdout"
        },
        {
          "output_type": "execute_result",
          "data": {
            "text/plain": [
              "0.6153846153846154"
            ]
          },
          "metadata": {
            "tags": []
          },
          "execution_count": 26
        }
      ]
    },
    {
      "cell_type": "markdown",
      "metadata": {
        "id": "QyoDmr3M7lXD"
      },
      "source": [
        "# **Random Forest Classification**"
      ]
    },
    {
      "cell_type": "markdown",
      "metadata": {
        "id": "jWpgAi8873uc"
      },
      "source": [
        "# **Training the Random Forest Classification model on the Training set**"
      ]
    },
    {
      "cell_type": "code",
      "metadata": {
        "colab": {
          "base_uri": "https://localhost:8080/"
        },
        "id": "2adcU5Or7j4v",
        "outputId": "2dd7d5f8-e2b0-4646-85a2-b28689c74ae2"
      },
      "source": [
        "from sklearn.ensemble import RandomForestClassifier\n",
        "classifier = RandomForestClassifier(n_estimators = 10, criterion = 'entropy', random_state = 0)\n",
        "classifier.fit(X_train, y_train)"
      ],
      "execution_count": 27,
      "outputs": [
        {
          "output_type": "execute_result",
          "data": {
            "text/plain": [
              "RandomForestClassifier(bootstrap=True, ccp_alpha=0.0, class_weight=None,\n",
              "                       criterion='entropy', max_depth=None, max_features='auto',\n",
              "                       max_leaf_nodes=None, max_samples=None,\n",
              "                       min_impurity_decrease=0.0, min_impurity_split=None,\n",
              "                       min_samples_leaf=1, min_samples_split=2,\n",
              "                       min_weight_fraction_leaf=0.0, n_estimators=10,\n",
              "                       n_jobs=None, oob_score=False, random_state=0, verbose=0,\n",
              "                       warm_start=False)"
            ]
          },
          "metadata": {
            "tags": []
          },
          "execution_count": 27
        }
      ]
    },
    {
      "cell_type": "code",
      "metadata": {
        "colab": {
          "base_uri": "https://localhost:8080/"
        },
        "id": "PGpIs65N9Ywg",
        "outputId": "e9bafa00-30b9-4a70-b795-720039f1f540"
      },
      "source": [
        "y_pred = classifier.predict(X_test)\n",
        "print(np.concatenate((y_pred.reshape(len(y_pred),1), y_test.reshape(len(y_test),1)),1))"
      ],
      "execution_count": 28,
      "outputs": [
        {
          "output_type": "stream",
          "text": [
            "[[1 0]\n",
            " [1 1]\n",
            " [1 0]\n",
            " [0 1]\n",
            " [1 0]\n",
            " [1 0]\n",
            " [1 1]\n",
            " [1 1]\n",
            " [1 1]\n",
            " [0 0]\n",
            " [0 0]\n",
            " [1 0]\n",
            " [0 1]\n",
            " [1 1]\n",
            " [1 1]\n",
            " [0 1]\n",
            " [0 1]\n",
            " [1 0]\n",
            " [0 0]\n",
            " [1 1]\n",
            " [0 0]\n",
            " [1 1]\n",
            " [0 0]\n",
            " [1 1]\n",
            " [1 0]\n",
            " [1 0]]\n"
          ],
          "name": "stdout"
        }
      ]
    },
    {
      "cell_type": "markdown",
      "metadata": {
        "id": "tIzovqxK8E2p"
      },
      "source": [
        "# **Making the Confusion Matrix**"
      ]
    },
    {
      "cell_type": "code",
      "metadata": {
        "colab": {
          "base_uri": "https://localhost:8080/"
        },
        "id": "ZAmhEPEH8Cu9",
        "outputId": "20bd5f81-f38e-4397-d656-c60358b2d7b3"
      },
      "source": [
        "from sklearn.metrics import confusion_matrix, accuracy_score\n",
        "y_pred = classifier.predict(X_test)\n",
        "cm = confusion_matrix(y_test, y_pred)\n",
        "print(cm)\n",
        "accuracy_score(y_test, y_pred)"
      ],
      "execution_count": 29,
      "outputs": [
        {
          "output_type": "stream",
          "text": [
            "[[5 8]\n",
            " [4 9]]\n"
          ],
          "name": "stdout"
        },
        {
          "output_type": "execute_result",
          "data": {
            "text/plain": [
              "0.5384615384615384"
            ]
          },
          "metadata": {
            "tags": []
          },
          "execution_count": 29
        }
      ]
    },
    {
      "cell_type": "markdown",
      "metadata": {
        "id": "7_a7xnLF_O-_"
      },
      "source": [
        "# **Evaluation**\n",
        "Among all classification algorithms which i have implemented SVM is generating very good accuracy score which is 76 percent. so for these dataset svm is the best for predicting whether customer is happy or not."
      ]
    }
  ]
}